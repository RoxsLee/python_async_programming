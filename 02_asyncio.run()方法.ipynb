{
 "cells": [
  {
   "cell_type": "markdown",
   "metadata": {
    "collapsed": true
   },
   "source": [
    "# Python asyncio.run() 函数"
   ]
  },
  {
   "cell_type": "markdown",
   "metadata": {},
   "source": [
    "asyncio.run() 函数是在 Python 3.7（2018 年发布）中引入的。\n",
    "\n",
    "它是一个高级 API，它创建一个事件循环，在事件循环中运行协程，\n",
    "\n",
    "最后在协程完成时关闭事件循环。它返回协程的最终结果，或者在协程失败时引发异常。"
   ]
  },
  {
   "cell_type": "markdown",
   "metadata": {},
   "source": [
    "# asyncio.run()语法\n",
    "\n",
    "asyncio.run(coro, *, debug=False)\n",
    "\n",
    "Coro 是您希望在事件循环中运行的协程对象。协程是一种特殊类型的函数，可以使用 async 和 await 关键字暂停和恢复其执行。\n",
    "\n",
    "debug 是一个可选的关键字参数，用于控制事件循环的调试模式。如果为 True，则事件循环将记录更多信息，检查常见错误，并启用异步。调试器模块。默认值为 False。"
   ]
  },
  {
   "cell_type": "markdown",
   "metadata": {},
   "source": [
    "# 例子1"
   ]
  },
  {
   "cell_type": "code",
   "execution_count": 1,
   "metadata": {},
   "outputs": [
    {
     "name": "stdout",
     "output_type": "stream",
     "text": [
      "Welcome to ...\n",
      "... Sling Academy!\n"
     ]
    }
   ],
   "source": [
    "import nest_asyncio\n",
    "import asyncio\n",
    "\n",
    "# 允许嵌套事件循环\n",
    "nest_asyncio.apply()\n",
    "\n",
    "async def main():\n",
    "    print('Welcome to ...')\n",
    "    await asyncio.sleep(3)\n",
    "    print('... Sling Academy!')\n",
    "\n",
    "asyncio.run(main())"
   ]
  },
  {
   "cell_type": "markdown",
   "metadata": {},
   "source": [
    "# 例子2 异步 I/O\n",
    "\n",
    "此示例演示如何使用 asyncio.run() 来处理异步 I/O 操作。它可用于并发执行 I/O 绑定操作，通过在等待 I/O 操作完成时不阻塞事件循环来提高效率。"
   ]
  },
  {
   "cell_type": "code",
   "execution_count": 2,
   "metadata": {},
   "outputs": [
    {
     "name": "stdout",
     "output_type": "stream",
     "text": [
      "Successfully downloaded file from https://api.slingacademy.com/v1/sample-data/files/customers.csv\n",
      "Successfully downloaded file from https://api.slingacademy.com/v1/sample-data/files/employees.json\n"
     ]
    }
   ],
   "source": [
    "import asyncio\n",
    "import nest_asyncio\n",
    "\n",
    "\n",
    "# 允许嵌套事件循环\n",
    "nest_asyncio.apply()\n",
    "\n",
    "\n",
    "async def download_file(url):\n",
    "    # Simulate file download\n",
    "    await asyncio.sleep(3)\n",
    "    print(f\"Successfully downloaded file from {url}\")\n",
    "\n",
    "async def main():\n",
    "    tasks = [\n",
    "        asyncio.create_task(download_file(\"https://api.slingacademy.com/v1/sample-data/files/customers.csv\")),\n",
    "\n",
    "        asyncio.create_task(download_file(\"https://api.slingacademy.com/v1/sample-data/files/employees.json\")),\n",
    "    ]\n",
    "    await asyncio.gather(*tasks)\n",
    "\n",
    "asyncio.run(main())"
   ]
  },
  {
   "cell_type": "code",
   "execution_count": null,
   "metadata": {},
   "outputs": [],
   "source": []
  }
 ],
 "metadata": {
  "kernelspec": {
   "display_name": "Python 3 (ipykernel)",
   "language": "python",
   "name": "python3"
  },
  "language_info": {
   "codemirror_mode": {
    "name": "ipython",
    "version": 3
   },
   "file_extension": ".py",
   "mimetype": "text/x-python",
   "name": "python",
   "nbconvert_exporter": "python",
   "pygments_lexer": "ipython3",
   "version": "3.11.4"
  }
 },
 "nbformat": 4,
 "nbformat_minor": 1
}