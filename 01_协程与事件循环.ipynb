{
 "cells": [
  {
   "cell_type": "markdown",
   "metadata": {},
   "source": [
    "# 协程与事件循环"
   ]
  },
  {
   "cell_type": "markdown",
   "metadata": {},
   "source": [
    "# 什么是协程和事件循环？\n",
    "\n",
    "这篇简明扼要的文章是关于协程和事件循环的，这是 Python 异步编程中的两个基本概念。"
   ]
  },
  {
   "cell_type": "markdown",
   "metadata": {},
   "source": [
    "## 什么是协程？\n",
    "\n",
    "协程是一种特殊的函数，可以在某些点暂停和恢复其执行，从而允许其他协程在此期间运行。协程是使用 async 关键字声明的，并且可以从其他协程中等待。"
   ]
  },
  {
   "cell_type": "code",
   "execution_count": 1,
   "metadata": {},
   "outputs": [
    {
     "name": "stdout",
     "output_type": "stream",
     "text": [
      "Hello\n",
      "Sling Academy!\n"
     ]
    }
   ],
   "source": [
    "# SlingAcademy.com\n",
    "# This code uses Python 3.11.4\n",
    "import nest_asyncio\n",
    "import asyncio\n",
    "\n",
    "# 允许嵌套事件循环\n",
    "nest_asyncio.apply()\n",
    "\n",
    "# Define the say_hello() coroutine that prints a message (Hello) and then pauses for 1 second before printing another message (Sling Academy!)\n",
    "async def say_hello():\n",
    "    print(\"Hello\")\n",
    "    # Pause for 1 second\n",
    "    await asyncio.sleep(1)  \n",
    "    print(\"Sling Academy!\")\n",
    "\n",
    "# The say_hello() coroutine is called from the main() coroutine\n",
    "async def main():\n",
    "    await say_hello()  \n",
    "\n",
    "# Run the main() coroutine\n",
    "asyncio.run(main())"
   ]
  },
  {
   "cell_type": "markdown",
   "metadata": {},
   "source": [
    "在上面的代码片段中，我们使用了 asyncio.run()函数，该函数创建一个新的事件循环，运行协程直到它完成，然后关闭循环。让我们在下一节中更深入地了解事件循环"
   ]
  },
  {
   "cell_type": "markdown",
   "metadata": {},
   "source": [
    "## 什么是事件循环？\n",
    "\n",
    "事件循环是一个对象，用于管理协程的执行以及其他异步任务，例如网络 IO 操作、子进程、计时器等。事件循环一次运行一个协程，当当前协程被 await 表达式或阻塞操作阻塞时，它会切换到另一个协程。"
   ]
  },
  {
   "cell_type": "markdown",
   "metadata": {},
   "source": [
    "### 创建事件循环的3种方法\n",
    "\n",
    "1，使用asyncio.run()\n",
    "\n",
    "2，使用asyncio.get_event_loop()函数\n",
    "\n",
    "3，使用asyncio.new_event_loop()函数\n"
   ]
  },
  {
   "cell_type": "markdown",
   "metadata": {},
   "source": [
    "#### 方法1, 使用asyncio.run()"
   ]
  },
  {
   "cell_type": "code",
   "execution_count": 2,
   "metadata": {},
   "outputs": [
    {
     "name": "stdout",
     "output_type": "stream",
     "text": [
      "Hello\n",
      "Sling Academy!\n"
     ]
    }
   ],
   "source": [
    "import nest_asyncio\n",
    "import asyncio\n",
    "\n",
    "# 允许嵌套事件循环\n",
    "nest_asyncio.apply()\n",
    "\n",
    "# Define the say_hello() coroutine that prints a message (Hello) and then pauses for 1 second before printing another message (Sling Academy!)\n",
    "async def say_hello():\n",
    "    print(\"Hello\")\n",
    "    # Pause for 1 second\n",
    "    await asyncio.sleep(1)  \n",
    "    print(\"Sling Academy!\")\n",
    "\n",
    "# The say_hello() coroutine is called from the main() coroutine\n",
    "async def main():\n",
    "    await say_hello()  \n",
    "\n",
    "# Run the main() coroutine\n",
    "asyncio.run(main())"
   ]
  },
  {
   "cell_type": "markdown",
   "metadata": {},
   "source": [
    "#### 方法2: 使用asyncio.get_event_loop()函数\n",
    "该函数会返回当前操作系统线程的 当前事件循环，如果没有当前事件循环，则创建一个事件循环，然后使用loop.run_until_completion()方法运行到协程结束。\n",
    "\n",
    "写法：\n",
    "\n",
    "1，定义异步函数\n",
    "\n",
    "2，获取事件循环\n",
    "\n",
    "3，运行事件循环"
   ]
  },
  {
   "cell_type": "code",
   "execution_count": 3,
   "metadata": {},
   "outputs": [
    {
     "name": "stdout",
     "output_type": "stream",
     "text": [
      "Hello buddy!\n",
      "Welcome to Sling Academy!\n"
     ]
    }
   ],
   "source": [
    "# SlingAcademy.com\n",
    "# This code uses Python 3.11.4\n",
    "import asyncio\n",
    "\n",
    "# 1，定义异步函数\n",
    "async def hello():\n",
    "    print(\"Hello buddy!\")\n",
    "    await asyncio.sleep(1)\n",
    "    print(\"Welcome to Sling Academy!\")\n",
    "\n",
    "# 2，创建事件循环\n",
    "loop = asyncio.get_event_loop()\n",
    "\n",
    "# 3，运行事件循环\n",
    "loop.run_until_complete(hello())\n",
    "# loop.close()"
   ]
  },
  {
   "cell_type": "markdown",
   "metadata": {},
   "source": [
    "#### 方法3: 使用asyncio.new_event_loop()函数\n",
    "\n",
    "该函数会返回当前操作系统线程的 当前事件循环，如果没有当前事件循环，则创建一个事件循环，然后使用loop.run_until_completion()方法运行到协程结束。\n",
    "\n",
    "写法： \n",
    "\n",
    "1，定义异步函数\n",
    "\n",
    "2，创建事件循环\n",
    "\n",
    "3，绑定事件循环\n",
    "\n",
    "4，运行事件循环"
   ]
  },
  {
   "cell_type": "code",
   "execution_count": 4,
   "metadata": {},
   "outputs": [
    {
     "name": "stdout",
     "output_type": "stream",
     "text": [
      "One\n",
      "Two\n",
      "Three\n"
     ]
    }
   ],
   "source": [
    "# SlingAcademy.com\n",
    "# This code uses Python 3.11.4\n",
    "import asyncio\n",
    "\n",
    "# 1，定义异步函数\n",
    "async def count():\n",
    "    print(\"One\")\n",
    "    await asyncio.sleep(1)\n",
    "    print(\"Two\")\n",
    "    await asyncio.sleep(1)\n",
    "    print(\"Three\")\n",
    "\n",
    "# 2，创建事件循环\n",
    "loop = asyncio.new_event_loop()\n",
    "# 3，绑定事件循环\n",
    "asyncio.set_event_loop(loop)\n",
    "# 4，运行事件循环\n",
    "loop.run_until_complete(count())\n",
    "\n",
    "# 最后关闭事件循环\n",
    "loop.close()"
   ]
  },
  {
   "cell_type": "code",
   "execution_count": null,
   "metadata": {},
   "outputs": [],
   "source": []
  }
 ],
 "metadata": {
  "kernelspec": {
   "display_name": "Python 3 (ipykernel)",
   "language": "python",
   "name": "python3"
  },
  "language_info": {
   "codemirror_mode": {
    "name": "ipython",
    "version": 3
   },
   "file_extension": ".py",
   "mimetype": "text/x-python",
   "name": "python",
   "nbconvert_exporter": "python",
   "pygments_lexer": "ipython3",
   "version": "3.11.4"
  }
 },
 "nbformat": 4,
 "nbformat_minor": 1
}